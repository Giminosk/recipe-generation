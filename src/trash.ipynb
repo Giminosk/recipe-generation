{
 "cells": [
  {
   "cell_type": "code",
   "execution_count": 11,
   "metadata": {},
   "outputs": [],
   "source": [
    "import os\n",
    "import json\n",
    "import pickle\n",
    "import numpy as np\n",
    "import shutil\n",
    "import json\n",
    "from config import config\n",
    "import pandas as pd\n",
    "import ast"
   ]
  },
  {
   "cell_type": "code",
   "execution_count": 2,
   "metadata": {},
   "outputs": [],
   "source": [
    "def cosine_similarity(array1, array2):\n",
    "    dot_product = np.dot(array1, array2)\n",
    "    magnitude1 = np.linalg.norm(array1)\n",
    "    magnitude2 = np.linalg.norm(array2)\n",
    "    return dot_product / (magnitude1 * magnitude2)"
   ]
  },
  {
   "cell_type": "code",
   "execution_count": 4,
   "metadata": {},
   "outputs": [],
   "source": [
    "data_path = './data/'"
   ]
  },
  {
   "cell_type": "code",
   "execution_count": 5,
   "metadata": {},
   "outputs": [],
   "source": [
    "with open(os.path.join(data_path, \"actions_embeddings.pkl\"), \"rb\") as file:\n",
    "    actions_embeddings = pickle.load(file)"
   ]
  },
  {
   "cell_type": "code",
   "execution_count": 7,
   "metadata": {},
   "outputs": [],
   "source": [
    "with open(os.path.join(data_path, \"ingredients_embeddings.pkl\"), \"rb\") as file:\n",
    "    ingredients_embeddings = pickle.load(file)"
   ]
  },
  {
   "cell_type": "code",
   "execution_count": 28,
   "metadata": {},
   "outputs": [
    {
     "data": {
      "text/plain": [
       "-0.06761497"
      ]
     },
     "execution_count": 28,
     "metadata": {},
     "output_type": "execute_result"
    }
   ],
   "source": [
    "cosine_similarity(ingredients_embeddings['embeddings'][1083], ingredients_embeddings['embeddings'][1551])"
   ]
  },
  {
   "cell_type": "code",
   "execution_count": 29,
   "metadata": {},
   "outputs": [
    {
     "data": {
      "text/plain": [
       "'beef tenderloin steak'"
      ]
     },
     "execution_count": 29,
     "metadata": {},
     "output_type": "execute_result"
    }
   ],
   "source": [
    "ingredients_embeddings['entities'][1551]"
   ]
  },
  {
   "cell_type": "code",
   "execution_count": 56,
   "metadata": {},
   "outputs": [
    {
     "data": {
      "text/plain": [
       "(439, 1098, 4972)"
      ]
     },
     "execution_count": 56,
     "metadata": {},
     "output_type": "execute_result"
    }
   ],
   "source": [
    "list(ingredients_embeddings['entities']).index('olive oil'), list(ingredients_embeddings['entities']).index('salt'), list(ingredients_embeddings['entities']).index('garlic')"
   ]
  },
  {
   "cell_type": "code",
   "execution_count": 58,
   "metadata": {},
   "outputs": [],
   "source": [
    "tmp = ingredients_embeddings['embeddings'][439] + ingredients_embeddings['embeddings'][1098] + ingredients_embeddings['embeddings'][4972] "
   ]
  },
  {
   "cell_type": "code",
   "execution_count": 61,
   "metadata": {},
   "outputs": [],
   "source": [
    "l = [abs(sum(tmp + actions_embeddings['embeddings'][i])) for i in range(len(actions_embeddings['actions']))]"
   ]
  },
  {
   "cell_type": "code",
   "execution_count": 71,
   "metadata": {},
   "outputs": [],
   "source": [
    "l = [cosine_similarity(tmp, actions_embeddings['embeddings'][i]) for i in range(len(actions_embeddings['actions']))]"
   ]
  },
  {
   "cell_type": "code",
   "execution_count": 72,
   "metadata": {},
   "outputs": [
    {
     "name": "stdout",
     "output_type": "stream",
     "text": [
      "hasNode\n",
      "add\n",
      "season\n",
      "sprinkle\n",
      "cook\n"
     ]
    }
   ],
   "source": [
    "for i in np.argsort(l)[:5]:\n",
    "    print(actions_embeddings['actions'][i])"
   ]
  },
  {
   "cell_type": "code",
   "execution_count": null,
   "metadata": {},
   "outputs": [],
   "source": []
  },
  {
   "cell_type": "code",
   "execution_count": null,
   "metadata": {},
   "outputs": [],
   "source": []
  },
  {
   "cell_type": "code",
   "execution_count": 8,
   "metadata": {},
   "outputs": [],
   "source": [
    "df = pd.read_csv('../eat_pim/data/RAW_recipes.csv')"
   ]
  },
  {
   "cell_type": "code",
   "execution_count": 14,
   "metadata": {},
   "outputs": [
    {
     "data": {
      "text/plain": [
       "'make a choice and proceed with recipe. depending on size of squash , cut into half or fourths. remove seeds. for spicy squash , drizzle olive oil or melted butter over each cut squash piece. season with mexican seasoning mix ii. for sweet squash , drizzle melted honey , butter , grated piloncillo over each cut squash piece. season with sweet mexican spice mix. bake at 350 degrees , again depending on size , for 40 minutes up to an hour , until a fork can easily pierce the skin. be careful not to burn the squash especially if you opt to use sugar or butter. if you feel more comfortable , cover the squash with aluminum foil the first half hour , give or take , of baking. if desired , season with salt'"
      ]
     },
     "execution_count": 14,
     "metadata": {},
     "output_type": "execute_result"
    }
   ],
   "source": [
    "'. '.join(ast.literal_eval(df.loc[0, 'steps']))"
   ]
  },
  {
   "cell_type": "code",
   "execution_count": 17,
   "metadata": {},
   "outputs": [],
   "source": [
    "from sklearn.feature_extraction.text import TfidfVectorizer\n",
    "\n",
    "from ingredients_selection import IngredientSelector\n",
    "\n",
    "\n",
    "\n",
    "class Checker():\n",
    "    def __init__(self):\n",
    "        self.ingredient_selector = IngredientSelector()\n",
    "        self.ingredients = ingredient_selector.select_ingredients() \n",
    "\n",
    "    \n",
    "    \n",
    "class TfIdf()\n",
    "    def __init__(self):\n",
    "        self.vectorizer = self.__get_vectorizer()\n",
    "        self.existing_ids = self.__get_existing_ids()        \n",
    "        \n",
    "        \n",
    "    def process(self):\n",
    "        df = pd.read_csv('../eat_pim/data/RAW_recipes.csv')\n",
    "        connecter = lambda x: '. '.join(ast.literal_eval(x))\n",
    "        ids = []\n",
    "        documents = []\n",
    "        \n",
    "        for i in range(df.shape[0]):\n",
    "            row = df.loc[i]\n",
    "            if row.id in self.existing_ids:\n",
    "                ids.append(row.id)\n",
    "                documents.append(connecter(row.steps))\n",
    "                \n",
    "        print(ids)\n",
    "        print(documents)\n",
    "                \n",
    "            \n",
    "        \n",
    "    def __get_existing_ids(self):\n",
    "        with open(os.path.join(config.NEW_DATA_PATH, config.FLOW_GRAPS_FILE), \"rb\") as file:\n",
    "            data = pickle.load(file)\n",
    "        return set(data.keys())\n",
    "        \n",
    "        \n",
    "    def __get_vectorizer(self):\n",
    "        return TfidfVectorizer()"
   ]
  },
  {
   "cell_type": "code",
   "execution_count": 45,
   "metadata": {},
   "outputs": [],
   "source": [
    "with open(os.path.join(data_path, \"flow_graphs.pkl\"), \"rb\") as file:\n",
    "    data = pickle.load(file)\n",
    "    existing_idx = set(data.keys())"
   ]
  },
  {
   "cell_type": "code",
   "execution_count": null,
   "metadata": {},
   "outputs": [],
   "source": []
  },
  {
   "cell_type": "code",
   "execution_count": 54,
   "metadata": {},
   "outputs": [],
   "source": [
    "from sklearn.feature_extraction.text import TfidfVectorizer\n",
    "from sklearn.metrics.pairwise import cosine_similarity"
   ]
  },
  {
   "cell_type": "code",
   "execution_count": 51,
   "metadata": {},
   "outputs": [],
   "source": [
    "corpus = [\n",
    "    '. '.join(ast.literal_eval(df.loc[0, 'steps'])),\n",
    "    '. '.join(ast.literal_eval(df.loc[1, 'steps'])),\n",
    "] "
   ]
  },
  {
   "cell_type": "code",
   "execution_count": 55,
   "metadata": {},
   "outputs": [],
   "source": [
    "tfidf_vectorizer = TfidfVectorizer()\n",
    "tfidf_matrix = tfidf_vectorizer.fit_transform(corpus)"
   ]
  },
  {
   "cell_type": "code",
   "execution_count": 58,
   "metadata": {},
   "outputs": [
    {
     "data": {
      "text/plain": [
       "(2, 116)"
      ]
     },
     "execution_count": 58,
     "metadata": {},
     "output_type": "execute_result"
    }
   ],
   "source": [
    "tfidf_matrix.toarray().shape"
   ]
  }
 ],
 "metadata": {
  "kernelspec": {
   "display_name": "base",
   "language": "python",
   "name": "python3"
  },
  "language_info": {
   "codemirror_mode": {
    "name": "ipython",
    "version": 3
   },
   "file_extension": ".py",
   "mimetype": "text/x-python",
   "name": "python",
   "nbconvert_exporter": "python",
   "pygments_lexer": "ipython3",
   "version": "3.10.9"
  }
 },
 "nbformat": 4,
 "nbformat_minor": 2
}
