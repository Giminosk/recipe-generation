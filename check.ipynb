{
 "cells": [
  {
   "cell_type": "markdown",
   "metadata": {},
   "source": [
    "#  Check results of each stage"
   ]
  },
  {
   "cell_type": "code",
   "execution_count": 110,
   "metadata": {},
   "outputs": [],
   "source": [
    "import pickle\n",
    "import pandas as pd\n",
    "import json\n",
    "import numpy as np"
   ]
  },
  {
   "cell_type": "markdown",
   "metadata": {},
   "source": [
    "## Parse stage"
   ]
  },
  {
   "cell_type": "code",
   "execution_count": 12,
   "metadata": {},
   "outputs": [],
   "source": [
    "df = pd.read_csv('./eat_pim/data/RAW_recipes.csv')"
   ]
  },
  {
   "cell_type": "code",
   "execution_count": 48,
   "metadata": {},
   "outputs": [
    {
     "data": {
      "text/html": [
       "<div>\n",
       "<style scoped>\n",
       "    .dataframe tbody tr th:only-of-type {\n",
       "        vertical-align: middle;\n",
       "    }\n",
       "\n",
       "    .dataframe tbody tr th {\n",
       "        vertical-align: top;\n",
       "    }\n",
       "\n",
       "    .dataframe thead th {\n",
       "        text-align: right;\n",
       "    }\n",
       "</style>\n",
       "<table border=\"1\" class=\"dataframe\">\n",
       "  <thead>\n",
       "    <tr style=\"text-align: right;\">\n",
       "      <th></th>\n",
       "      <th>name</th>\n",
       "      <th>id</th>\n",
       "      <th>minutes</th>\n",
       "      <th>contributor_id</th>\n",
       "      <th>submitted</th>\n",
       "      <th>tags</th>\n",
       "      <th>nutrition</th>\n",
       "      <th>n_steps</th>\n",
       "      <th>steps</th>\n",
       "      <th>description</th>\n",
       "      <th>ingredients</th>\n",
       "      <th>n_ingredients</th>\n",
       "    </tr>\n",
       "  </thead>\n",
       "  <tbody>\n",
       "    <tr>\n",
       "      <th>0</th>\n",
       "      <td>arriba   baked winter squash mexican style</td>\n",
       "      <td>137739</td>\n",
       "      <td>55</td>\n",
       "      <td>47892</td>\n",
       "      <td>2005-09-16</td>\n",
       "      <td>['60-minutes-or-less', 'time-to-make', 'course...</td>\n",
       "      <td>[51.5, 0.0, 13.0, 0.0, 2.0, 0.0, 4.0]</td>\n",
       "      <td>11</td>\n",
       "      <td>['make a choice and proceed with recipe', 'dep...</td>\n",
       "      <td>autumn is my favorite time of year to cook! th...</td>\n",
       "      <td>['winter squash', 'mexican seasoning', 'mixed ...</td>\n",
       "      <td>7</td>\n",
       "    </tr>\n",
       "    <tr>\n",
       "      <th>1</th>\n",
       "      <td>a bit different  breakfast pizza</td>\n",
       "      <td>31490</td>\n",
       "      <td>30</td>\n",
       "      <td>26278</td>\n",
       "      <td>2002-06-17</td>\n",
       "      <td>['30-minutes-or-less', 'time-to-make', 'course...</td>\n",
       "      <td>[173.4, 18.0, 0.0, 17.0, 22.0, 35.0, 1.0]</td>\n",
       "      <td>9</td>\n",
       "      <td>['preheat oven to 425 degrees f', 'press dough...</td>\n",
       "      <td>this recipe calls for the crust to be prebaked...</td>\n",
       "      <td>['prepared pizza crust', 'sausage patty', 'egg...</td>\n",
       "      <td>6</td>\n",
       "    </tr>\n",
       "    <tr>\n",
       "      <th>2</th>\n",
       "      <td>all in the kitchen  chili</td>\n",
       "      <td>112140</td>\n",
       "      <td>130</td>\n",
       "      <td>196586</td>\n",
       "      <td>2005-02-25</td>\n",
       "      <td>['time-to-make', 'course', 'preparation', 'mai...</td>\n",
       "      <td>[269.8, 22.0, 32.0, 48.0, 39.0, 27.0, 5.0]</td>\n",
       "      <td>6</td>\n",
       "      <td>['brown ground beef in large pot', 'add choppe...</td>\n",
       "      <td>this modified version of 'mom's' chili was a h...</td>\n",
       "      <td>['ground beef', 'yellow onions', 'diced tomato...</td>\n",
       "      <td>13</td>\n",
       "    </tr>\n",
       "    <tr>\n",
       "      <th>3</th>\n",
       "      <td>alouette  potatoes</td>\n",
       "      <td>59389</td>\n",
       "      <td>45</td>\n",
       "      <td>68585</td>\n",
       "      <td>2003-04-14</td>\n",
       "      <td>['60-minutes-or-less', 'time-to-make', 'course...</td>\n",
       "      <td>[368.1, 17.0, 10.0, 2.0, 14.0, 8.0, 20.0]</td>\n",
       "      <td>11</td>\n",
       "      <td>['place potatoes in a large pot of lightly sal...</td>\n",
       "      <td>this is a super easy, great tasting, make ahea...</td>\n",
       "      <td>['spreadable cheese with garlic and herbs', 'n...</td>\n",
       "      <td>11</td>\n",
       "    </tr>\n",
       "    <tr>\n",
       "      <th>4</th>\n",
       "      <td>amish  tomato ketchup  for canning</td>\n",
       "      <td>44061</td>\n",
       "      <td>190</td>\n",
       "      <td>41706</td>\n",
       "      <td>2002-10-25</td>\n",
       "      <td>['weeknight', 'time-to-make', 'course', 'main-...</td>\n",
       "      <td>[352.9, 1.0, 337.0, 23.0, 3.0, 0.0, 28.0]</td>\n",
       "      <td>5</td>\n",
       "      <td>['mix all ingredients&amp; boil for 2 1 / 2 hours ...</td>\n",
       "      <td>my dh's amish mother raised him on this recipe...</td>\n",
       "      <td>['tomato juice', 'apple cider vinegar', 'sugar...</td>\n",
       "      <td>8</td>\n",
       "    </tr>\n",
       "  </tbody>\n",
       "</table>\n",
       "</div>"
      ],
      "text/plain": [
       "                                         name      id  minutes  \\\n",
       "0  arriba   baked winter squash mexican style  137739       55   \n",
       "1            a bit different  breakfast pizza   31490       30   \n",
       "2                   all in the kitchen  chili  112140      130   \n",
       "3                          alouette  potatoes   59389       45   \n",
       "4          amish  tomato ketchup  for canning   44061      190   \n",
       "\n",
       "   contributor_id   submitted  \\\n",
       "0           47892  2005-09-16   \n",
       "1           26278  2002-06-17   \n",
       "2          196586  2005-02-25   \n",
       "3           68585  2003-04-14   \n",
       "4           41706  2002-10-25   \n",
       "\n",
       "                                                tags  \\\n",
       "0  ['60-minutes-or-less', 'time-to-make', 'course...   \n",
       "1  ['30-minutes-or-less', 'time-to-make', 'course...   \n",
       "2  ['time-to-make', 'course', 'preparation', 'mai...   \n",
       "3  ['60-minutes-or-less', 'time-to-make', 'course...   \n",
       "4  ['weeknight', 'time-to-make', 'course', 'main-...   \n",
       "\n",
       "                                    nutrition  n_steps  \\\n",
       "0       [51.5, 0.0, 13.0, 0.0, 2.0, 0.0, 4.0]       11   \n",
       "1   [173.4, 18.0, 0.0, 17.0, 22.0, 35.0, 1.0]        9   \n",
       "2  [269.8, 22.0, 32.0, 48.0, 39.0, 27.0, 5.0]        6   \n",
       "3   [368.1, 17.0, 10.0, 2.0, 14.0, 8.0, 20.0]       11   \n",
       "4   [352.9, 1.0, 337.0, 23.0, 3.0, 0.0, 28.0]        5   \n",
       "\n",
       "                                               steps  \\\n",
       "0  ['make a choice and proceed with recipe', 'dep...   \n",
       "1  ['preheat oven to 425 degrees f', 'press dough...   \n",
       "2  ['brown ground beef in large pot', 'add choppe...   \n",
       "3  ['place potatoes in a large pot of lightly sal...   \n",
       "4  ['mix all ingredients& boil for 2 1 / 2 hours ...   \n",
       "\n",
       "                                         description  \\\n",
       "0  autumn is my favorite time of year to cook! th...   \n",
       "1  this recipe calls for the crust to be prebaked...   \n",
       "2  this modified version of 'mom's' chili was a h...   \n",
       "3  this is a super easy, great tasting, make ahea...   \n",
       "4  my dh's amish mother raised him on this recipe...   \n",
       "\n",
       "                                         ingredients  n_ingredients  \n",
       "0  ['winter squash', 'mexican seasoning', 'mixed ...              7  \n",
       "1  ['prepared pizza crust', 'sausage patty', 'egg...              6  \n",
       "2  ['ground beef', 'yellow onions', 'diced tomato...             13  \n",
       "3  ['spreadable cheese with garlic and herbs', 'n...             11  \n",
       "4  ['tomato juice', 'apple cider vinegar', 'sugar...              8  "
      ]
     },
     "execution_count": 48,
     "metadata": {},
     "output_type": "execute_result"
    }
   ],
   "source": [
    "df.head()"
   ]
  },
  {
   "cell_type": "code",
   "execution_count": 100,
   "metadata": {},
   "outputs": [
    {
     "data": {
      "text/html": [
       "<div>\n",
       "<style scoped>\n",
       "    .dataframe tbody tr th:only-of-type {\n",
       "        vertical-align: middle;\n",
       "    }\n",
       "\n",
       "    .dataframe tbody tr th {\n",
       "        vertical-align: top;\n",
       "    }\n",
       "\n",
       "    .dataframe thead th {\n",
       "        text-align: right;\n",
       "    }\n",
       "</style>\n",
       "<table border=\"1\" class=\"dataframe\">\n",
       "  <thead>\n",
       "    <tr style=\"text-align: right;\">\n",
       "      <th></th>\n",
       "      <th>name</th>\n",
       "      <th>id</th>\n",
       "      <th>minutes</th>\n",
       "      <th>contributor_id</th>\n",
       "      <th>submitted</th>\n",
       "      <th>tags</th>\n",
       "      <th>nutrition</th>\n",
       "      <th>n_steps</th>\n",
       "      <th>steps</th>\n",
       "      <th>description</th>\n",
       "      <th>ingredients</th>\n",
       "      <th>n_ingredients</th>\n",
       "    </tr>\n",
       "  </thead>\n",
       "  <tbody>\n",
       "    <tr>\n",
       "      <th>211992</th>\n",
       "      <td>the easiest  tastiest  yet  healthiest  chocol...</td>\n",
       "      <td>134714</td>\n",
       "      <td>4</td>\n",
       "      <td>238176</td>\n",
       "      <td>2005-08-24</td>\n",
       "      <td>['15-minutes-or-less', 'time-to-make', 'course...</td>\n",
       "      <td>[517.0, 19.0, 226.0, 21.0, 47.0, 34.0, 25.0]</td>\n",
       "      <td>3</td>\n",
       "      <td>['pour the milk into a glass', 'mix the chocol...</td>\n",
       "      <td>it's easy to make! turn plain non-flavored mil...</td>\n",
       "      <td>['chocolate syrup', 'low-fat milk']</td>\n",
       "      <td>2</td>\n",
       "    </tr>\n",
       "  </tbody>\n",
       "</table>\n",
       "</div>"
      ],
      "text/plain": [
       "                                                     name      id  minutes  \\\n",
       "211992  the easiest  tastiest  yet  healthiest  chocol...  134714        4   \n",
       "\n",
       "        contributor_id   submitted  \\\n",
       "211992          238176  2005-08-24   \n",
       "\n",
       "                                                     tags  \\\n",
       "211992  ['15-minutes-or-less', 'time-to-make', 'course...   \n",
       "\n",
       "                                           nutrition  n_steps  \\\n",
       "211992  [517.0, 19.0, 226.0, 21.0, 47.0, 34.0, 25.0]        3   \n",
       "\n",
       "                                                    steps  \\\n",
       "211992  ['pour the milk into a glass', 'mix the chocol...   \n",
       "\n",
       "                                              description  \\\n",
       "211992  it's easy to make! turn plain non-flavored mil...   \n",
       "\n",
       "                                ingredients  n_ingredients  \n",
       "211992  ['chocolate syrup', 'low-fat milk']              2  "
      ]
     },
     "execution_count": 100,
     "metadata": {},
     "output_type": "execute_result"
    }
   ],
   "source": [
    "df[df.id == 134714]"
   ]
  },
  {
   "cell_type": "code",
   "execution_count": 2,
   "metadata": {},
   "outputs": [],
   "source": [
    "with open('eat_pim/data/result/parsed_recipes.pkl', 'rb') as file:\n",
    "    data = pickle.load(file)"
   ]
  },
  {
   "cell_type": "code",
   "execution_count": 101,
   "metadata": {},
   "outputs": [
    {
     "data": {
      "text/plain": [
       "{'recipe_name': 'the easiest  tastiest  yet  healthiest  chocolate milk',\n",
       " 'tags': ['15-minutes-or-less',\n",
       "  'time-to-make',\n",
       "  'course',\n",
       "  'preparation',\n",
       "  'for-1-or-2',\n",
       "  'healthy',\n",
       "  '5-ingredients-or-less',\n",
       "  'beverages',\n",
       "  'easy',\n",
       "  'low-fat',\n",
       "  'dietary',\n",
       "  'low-sodium',\n",
       "  'low-cholesterol',\n",
       "  'low-saturated-fat',\n",
       "  'low-calorie',\n",
       "  'healthy-2',\n",
       "  'low-in-something',\n",
       "  'number-of-servings',\n",
       "  '3-steps-or-less'],\n",
       " 'parsed_steps': {0: {'subj_pred': set(),\n",
       "   'pred_obj': {('pour', 'milk', 0, 'dobj')},\n",
       "   'modifying_subj_pred': set(),\n",
       "   'modifying_pred_obj': set(),\n",
       "   'verbs': {'pour'},\n",
       "   'root_verb': 'pour',\n",
       "   'noun_chunks': {'glass', 'milk'},\n",
       "   'action_prep_obj': {('pour', 'into', 'glass', 0)},\n",
       "   'step_string': 'pour the milk into a glass.'},\n",
       "  1: {'subj_pred': {('brown', 'mix', 0, 'acomp')},\n",
       "   'pred_obj': {('mix', 'chocolate syrup', 0, 'dobj')},\n",
       "   'modifying_subj_pred': {('color', 'become', 13), ('milk', 'become', 13)},\n",
       "   'modifying_pred_obj': {('become', 'brown', 13)},\n",
       "   'verbs': {'mix'},\n",
       "   'root_verb': 'mix',\n",
       "   'noun_chunks': {'chocolate syrup', 'color', 'milk'},\n",
       "   'action_prep_obj': {('mix', 'until', 'become', 0),\n",
       "    ('mix', 'with', 'milk', 0)},\n",
       "   'step_string': 'mix the chocolate syrup with the milk until the color of the milk becomes brown.'},\n",
       "  2: {'subj_pred': set(),\n",
       "   'pred_obj': set(),\n",
       "   'modifying_subj_pred': set(),\n",
       "   'modifying_pred_obj': set(),\n",
       "   'verbs': {'serve', 'sip'},\n",
       "   'root_verb': 'serve',\n",
       "   'noun_chunks': set(),\n",
       "   'action_prep_obj': set(),\n",
       "   'step_string': 'serve and sip.'}},\n",
       " 'ingredients': {'chocolate syrup', 'low fat milk'}}"
      ]
     },
     "execution_count": 101,
     "metadata": {},
     "output_type": "execute_result"
    }
   ],
   "source": [
    "data[134714]"
   ]
  },
  {
   "cell_type": "markdown",
   "metadata": {},
   "source": [
    "## Match phase"
   ]
  },
  {
   "cell_type": "code",
   "execution_count": 51,
   "metadata": {},
   "outputs": [],
   "source": [
    "with open('eat_pim/data/result/ingredient_list.json', 'r') as json_file:\n",
    "    data1 = json.load(json_file)"
   ]
  },
  {
   "cell_type": "code",
   "execution_count": 55,
   "metadata": {},
   "outputs": [
    {
     "data": {
      "text/plain": [
       "['pink peppercorn',\n",
       " 'cream wheat',\n",
       " 'gruyere',\n",
       " 'hot pepper sauce',\n",
       " 'soft fresh goat cheese',\n",
       " 'white wine',\n",
       " 'chocolate chip',\n",
       " 'sweet pickle relish',\n",
       " 'fresh asparagus',\n",
       " 'dill']"
      ]
     },
     "execution_count": 55,
     "metadata": {},
     "output_type": "execute_result"
    }
   ],
   "source": [
    "data1[:10]"
   ]
  },
  {
   "cell_type": "code",
   "execution_count": 52,
   "metadata": {},
   "outputs": [],
   "source": [
    "with open('eat_pim/data/result/word_cleanup_linking.json', 'r') as json_file:\n",
    "    data2 = json.load(json_file)"
   ]
  },
  {
   "cell_type": "code",
   "execution_count": 57,
   "metadata": {},
   "outputs": [
    {
     "data": {
      "text/plain": [
       "['obj_to_ing',\n",
       " 'obj_to_subobj',\n",
       " 'obj_leftovers',\n",
       " 'ing_to_ing',\n",
       " 'ing_to_foodon',\n",
       " 'obj_to_foodon',\n",
       " 'obj_to_equipment',\n",
       " 'verb_to_preparations']"
      ]
     },
     "execution_count": 57,
     "metadata": {},
     "output_type": "execute_result"
    }
   ],
   "source": [
    "list(data2.keys())"
   ]
  },
  {
   "cell_type": "code",
   "execution_count": 76,
   "metadata": {},
   "outputs": [
    {
     "name": "stdout",
     "output_type": "stream",
     "text": [
      "obj_to_ing\n",
      "\n",
      "cup: []\n",
      "flan ring: []\n",
      "dash: []\n",
      "flavoring packet: []\n",
      "breadcrumb mix: []\n",
      "--------------------------------------------------\n",
      "\n",
      "\n",
      "obj_to_subobj\n",
      "\n",
      "cup: []\n",
      "flan ring: ['ring']\n",
      "dash: []\n",
      "flavoring packet: ['packet']\n",
      "breadcrumb mix: ['mix', 'breadcrumb']\n",
      "--------------------------------------------------\n",
      "\n",
      "\n",
      "obj_leftovers\n",
      "\n",
      "cup: cup\n",
      "flan ring: flan\n",
      "dash: dash\n",
      "flavoring packet: flavoring\n",
      "breadcrumb mix: \n",
      "--------------------------------------------------\n",
      "\n",
      "\n",
      "ing_to_ing\n",
      "\n",
      "pink peppercorn: ['peppercorn']\n",
      "cream wheat: []\n",
      "gruyere: []\n",
      "hot pepper sauce: ['pepper sauce']\n",
      "soft fresh goat cheese: ['goat cheese']\n",
      "--------------------------------------------------\n",
      "\n",
      "\n",
      "ing_to_foodon\n",
      "\n",
      "pink peppercorn: ['http://purl.obolibrary.org/obo/FOODON_00003810']\n",
      "cream wheat: ['http://purl.obolibrary.org/obo/FOODON_00001141']\n",
      "gruyere: ['http://purl.obolibrary.org/obo/FOODON_03303686']\n",
      "hot pepper sauce: ['http://purl.obolibrary.org/obo/FOODON_00001956']\n",
      "soft fresh goat cheese: ['http://purl.obolibrary.org/obo/FOODON_00002252']\n",
      "--------------------------------------------------\n",
      "\n",
      "\n",
      "obj_to_foodon\n",
      "\n",
      "heated simply macaroni: ['http://purl.obolibrary.org/obo/FOODON_03316947']\n",
      "hazelnut: ['http://purl.obolibrary.org/obo/FOODON_00002932']\n",
      "cream cheese: ['http://purl.obolibrary.org/obo/FOODON_03301889']\n",
      "3 oz cream cheese: ['http://purl.obolibrary.org/obo/FOODON_03301889']\n",
      "raisin: ['http://purl.obolibrary.org/obo/FOODON_03301283']\n",
      "--------------------------------------------------\n",
      "\n",
      "\n",
      "obj_to_equipment\n",
      "\n",
      "cup: ['http://www.wikidata.org/entity/Q3579073']\n",
      "microwave oven: ['http://www.wikidata.org/entity/Q127956']\n",
      "roasting pan: ['http://www.wikidata.org/entity/Q7339910']\n",
      "fork: ['http://www.wikidata.org/entity/Q81881']\n",
      "cocktail shaker: ['http://www.wikidata.org/entity/Q1105339']\n",
      "--------------------------------------------------\n",
      "\n",
      "\n",
      "verb_to_preparations\n",
      "\n",
      "fry: ['http://www.wikidata.org/entity/Q300472']\n",
      "simmer: ['http://www.wikidata.org/entity/Q240164']\n",
      "top: ['http://www.wikidata.org/entity/Q1974667']\n",
      "combine: ['http://www.wikidata.org/entity/Q379697']\n",
      "marinate: ['http://www.wikidata.org/entity/Q725668']\n",
      "--------------------------------------------------\n",
      "\n",
      "\n"
     ]
    }
   ],
   "source": [
    "for key, value in data2.items():\n",
    "    print(key)\n",
    "    print()\n",
    "    for key2, value2 in list(value.items())[:5]:\n",
    "        print(f'{key2}: {value2}')\n",
    "    print('-'*50)\n",
    "    print('\\n')"
   ]
  },
  {
   "cell_type": "markdown",
   "metadata": {},
   "source": [
    "## Converting stage"
   ]
  },
  {
   "cell_type": "code",
   "execution_count": 80,
   "metadata": {},
   "outputs": [],
   "source": [
    "with open('eat_pim/data/result/entity_relations.json', 'r') as json_file:\n",
    "    data1 = json.load(json_file)"
   ]
  },
  {
   "cell_type": "code",
   "execution_count": 89,
   "metadata": {},
   "outputs": [
    {
     "data": {
      "text/plain": [
       "['514423', '134714', '383560', '137141', '38946']"
      ]
     },
     "execution_count": 89,
     "metadata": {},
     "output_type": "execute_result"
    }
   ],
   "source": [
    "list(data1.keys())[:5]"
   ]
  },
  {
   "cell_type": "code",
   "execution_count": 108,
   "metadata": {},
   "outputs": [
    {
     "data": {
      "text/plain": [
       "{'edges': [['pred_pour_134714_0', 'pred_mix_134714_1'],\n",
       "  ['pred_pour_134714_0', 'pred_become_134714_1'],\n",
       "  ['pred_mix_134714_1', 'RECIPE_OUTPUT_134714'],\n",
       "  ['pred_become_134714_1', 'pred_mix_134714_1'],\n",
       "  ['low fat milk', 'pred_pour_134714_0'],\n",
       "  ['chocolate syrup', 'pred_mix_134714_1']],\n",
       " 'edge_labels': ['pred mix',\n",
       "  'pred become',\n",
       "  'RECIPE OUTPUT',\n",
       "  'pred mix',\n",
       "  'pred pour',\n",
       "  'pred mix'],\n",
       " 'output_node': 'RECIPE_OUTPUT_134714'}"
      ]
     },
     "execution_count": 108,
     "metadata": {},
     "output_type": "execute_result"
    }
   ],
   "source": [
    "data1['134714']"
   ]
  },
  {
   "cell_type": "code",
   "execution_count": 102,
   "metadata": {},
   "outputs": [],
   "source": [
    "with open('eat_pim/data/result/recipe_tree_data.json', 'r') as json_file:\n",
    "    data2 = json.load(json_file)"
   ]
  },
  {
   "cell_type": "code",
   "execution_count": 107,
   "metadata": {},
   "outputs": [
    {
     "data": {
      "text/plain": [
       "{'edges': [['pred_pour_134714_0', 'pred_mix_134714_1'],\n",
       "  ['pred_pour_134714_0', 'pred_become_134714_1'],\n",
       "  ['pred_mix_134714_1', 'RECIPE_OUTPUT_134714'],\n",
       "  ['pred_become_134714_1', 'pred_mix_134714_1'],\n",
       "  ['low fat milk', 'pred_pour_134714_0'],\n",
       "  ['chocolate syrup', 'pred_mix_134714_1']],\n",
       " 'edge_labels': ['pred mix',\n",
       "  'pred become',\n",
       "  'RECIPE OUTPUT',\n",
       "  'pred mix',\n",
       "  'pred pour',\n",
       "  'pred mix'],\n",
       " 'output_node': 'RECIPE_OUTPUT_134714'}"
      ]
     },
     "execution_count": 107,
     "metadata": {},
     "output_type": "execute_result"
    }
   ],
   "source": [
    "data2['134714']"
   ]
  },
  {
   "cell_type": "markdown",
   "metadata": {},
   "source": [
    "## Additional transformations stage"
   ]
  },
  {
   "cell_type": "code",
   "execution_count": null,
   "metadata": {},
   "outputs": [],
   "source": [
    "# seems not interesting "
   ]
  },
  {
   "cell_type": "markdown",
   "metadata": {},
   "source": [
    "## Training stage"
   ]
  },
  {
   "cell_type": "code",
   "execution_count": 111,
   "metadata": {},
   "outputs": [],
   "source": [
    "data1 = np.load('eat_pim/data/result/models/result_model/entity_embedding.npy')"
   ]
  },
  {
   "cell_type": "code",
   "execution_count": 115,
   "metadata": {},
   "outputs": [
    {
     "data": {
      "text/plain": [
       "(14544, 200)"
      ]
     },
     "execution_count": 115,
     "metadata": {},
     "output_type": "execute_result"
    }
   ],
   "source": [
    "data1.shape"
   ]
  },
  {
   "cell_type": "code",
   "execution_count": 113,
   "metadata": {},
   "outputs": [
    {
     "data": {
      "text/plain": [
       "array([[-0.15730566, -0.16300571,  0.17372206, ..., -0.11723914,\n",
       "        -0.03799069,  0.1553396 ],\n",
       "       [ 0.1048282 ,  0.00267288, -0.11163474, ...,  0.0121008 ,\n",
       "        -0.07867005,  0.00126089],\n",
       "       [ 0.19304666,  0.18816614,  0.19701171, ...,  0.04317206,\n",
       "         0.06295916, -0.02250869],\n",
       "       ...,\n",
       "       [ 0.08771458,  0.16975832,  0.05831364, ..., -0.16495588,\n",
       "        -0.13149978, -0.00118239],\n",
       "       [-0.13572384, -0.04644216,  0.02138443, ...,  0.03580434,\n",
       "         0.20595698,  0.09834994],\n",
       "       [-0.10202004,  0.15860766,  0.07565844, ...,  0.03308149,\n",
       "         0.04762605,  0.09335016]], dtype=float32)"
      ]
     },
     "execution_count": 113,
     "metadata": {},
     "output_type": "execute_result"
    }
   ],
   "source": [
    "data1"
   ]
  },
  {
   "cell_type": "code",
   "execution_count": 112,
   "metadata": {},
   "outputs": [],
   "source": [
    "data2= np.load('eat_pim/data/result/models/result_model/relation_embedding.npy')"
   ]
  },
  {
   "cell_type": "code",
   "execution_count": 116,
   "metadata": {},
   "outputs": [
    {
     "data": {
      "text/plain": [
       "(337, 200)"
      ]
     },
     "execution_count": 116,
     "metadata": {},
     "output_type": "execute_result"
    }
   ],
   "source": [
    "data2.shape"
   ]
  },
  {
   "cell_type": "code",
   "execution_count": 114,
   "metadata": {},
   "outputs": [
    {
     "data": {
      "text/plain": [
       "array([[-0.04506266,  0.07760882, -0.10665913, ...,  0.12019925,\n",
       "        -0.09497406,  0.04320364],\n",
       "       [ 0.04970494, -0.05062789,  0.12367373, ..., -0.00666023,\n",
       "        -0.02488038, -0.06820279],\n",
       "       [-0.12450725,  0.07386997, -0.03578743, ...,  0.09905669,\n",
       "         0.14897479, -0.0793221 ],\n",
       "       ...,\n",
       "       [ 0.01686067, -0.00877547, -0.07808621, ...,  0.04358712,\n",
       "        -0.05034246,  0.12145896],\n",
       "       [-0.02194676,  0.02441711, -0.05962902, ..., -0.02604868,\n",
       "        -0.0987896 , -0.04782353],\n",
       "       [ 0.08043953,  0.02161094, -0.06800458, ..., -0.05121616,\n",
       "         0.08861237, -0.07131154]], dtype=float32)"
      ]
     },
     "execution_count": 114,
     "metadata": {},
     "output_type": "execute_result"
    }
   ],
   "source": [
    "data2"
   ]
  },
  {
   "cell_type": "code",
   "execution_count": 117,
   "metadata": {},
   "outputs": [],
   "source": [
    "# entities and actions themselves are in 'eat_pim/data/result/eatpim_triple_data/' in 'entities.dict' and 'relations.dict'"
   ]
  }
 ],
 "metadata": {
  "kernelspec": {
   "display_name": "base",
   "language": "python",
   "name": "python3"
  },
  "language_info": {
   "codemirror_mode": {
    "name": "ipython",
    "version": 3
   },
   "file_extension": ".py",
   "mimetype": "text/x-python",
   "name": "python",
   "nbconvert_exporter": "python",
   "pygments_lexer": "ipython3",
   "version": "3.10.9"
  }
 },
 "nbformat": 4,
 "nbformat_minor": 2
}
