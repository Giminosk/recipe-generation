{
 "cells": [
  {
   "cell_type": "markdown",
   "metadata": {},
   "source": [
    "#  Check results of each stage"
   ]
  },
  {
   "cell_type": "code",
   "execution_count": 1,
   "metadata": {},
   "outputs": [],
   "source": [
    "import pickle\n",
    "import pandas as pd\n",
    "import json\n",
    "import numpy as np"
   ]
  },
  {
   "cell_type": "markdown",
   "metadata": {},
   "source": [
    "## Parse stage"
   ]
  },
  {
   "cell_type": "code",
   "execution_count": 2,
   "metadata": {},
   "outputs": [],
   "source": [
    "df = pd.read_csv('./eat_pim/data/RAW_recipes.csv')"
   ]
  },
  {
   "cell_type": "code",
   "execution_count": 3,
   "metadata": {},
   "outputs": [
    {
     "data": {
      "text/html": [
       "<div>\n",
       "<style scoped>\n",
       "    .dataframe tbody tr th:only-of-type {\n",
       "        vertical-align: middle;\n",
       "    }\n",
       "\n",
       "    .dataframe tbody tr th {\n",
       "        vertical-align: top;\n",
       "    }\n",
       "\n",
       "    .dataframe thead th {\n",
       "        text-align: right;\n",
       "    }\n",
       "</style>\n",
       "<table border=\"1\" class=\"dataframe\">\n",
       "  <thead>\n",
       "    <tr style=\"text-align: right;\">\n",
       "      <th></th>\n",
       "      <th>name</th>\n",
       "      <th>id</th>\n",
       "      <th>minutes</th>\n",
       "      <th>contributor_id</th>\n",
       "      <th>submitted</th>\n",
       "      <th>tags</th>\n",
       "      <th>nutrition</th>\n",
       "      <th>n_steps</th>\n",
       "      <th>steps</th>\n",
       "      <th>description</th>\n",
       "      <th>ingredients</th>\n",
       "      <th>n_ingredients</th>\n",
       "    </tr>\n",
       "  </thead>\n",
       "  <tbody>\n",
       "    <tr>\n",
       "      <th>0</th>\n",
       "      <td>arriba   baked winter squash mexican style</td>\n",
       "      <td>137739</td>\n",
       "      <td>55</td>\n",
       "      <td>47892</td>\n",
       "      <td>2005-09-16</td>\n",
       "      <td>['60-minutes-or-less', 'time-to-make', 'course...</td>\n",
       "      <td>[51.5, 0.0, 13.0, 0.0, 2.0, 0.0, 4.0]</td>\n",
       "      <td>11</td>\n",
       "      <td>['make a choice and proceed with recipe', 'dep...</td>\n",
       "      <td>autumn is my favorite time of year to cook! th...</td>\n",
       "      <td>['winter squash', 'mexican seasoning', 'mixed ...</td>\n",
       "      <td>7</td>\n",
       "    </tr>\n",
       "    <tr>\n",
       "      <th>1</th>\n",
       "      <td>a bit different  breakfast pizza</td>\n",
       "      <td>31490</td>\n",
       "      <td>30</td>\n",
       "      <td>26278</td>\n",
       "      <td>2002-06-17</td>\n",
       "      <td>['30-minutes-or-less', 'time-to-make', 'course...</td>\n",
       "      <td>[173.4, 18.0, 0.0, 17.0, 22.0, 35.0, 1.0]</td>\n",
       "      <td>9</td>\n",
       "      <td>['preheat oven to 425 degrees f', 'press dough...</td>\n",
       "      <td>this recipe calls for the crust to be prebaked...</td>\n",
       "      <td>['prepared pizza crust', 'sausage patty', 'egg...</td>\n",
       "      <td>6</td>\n",
       "    </tr>\n",
       "    <tr>\n",
       "      <th>2</th>\n",
       "      <td>all in the kitchen  chili</td>\n",
       "      <td>112140</td>\n",
       "      <td>130</td>\n",
       "      <td>196586</td>\n",
       "      <td>2005-02-25</td>\n",
       "      <td>['time-to-make', 'course', 'preparation', 'mai...</td>\n",
       "      <td>[269.8, 22.0, 32.0, 48.0, 39.0, 27.0, 5.0]</td>\n",
       "      <td>6</td>\n",
       "      <td>['brown ground beef in large pot', 'add choppe...</td>\n",
       "      <td>this modified version of 'mom's' chili was a h...</td>\n",
       "      <td>['ground beef', 'yellow onions', 'diced tomato...</td>\n",
       "      <td>13</td>\n",
       "    </tr>\n",
       "    <tr>\n",
       "      <th>3</th>\n",
       "      <td>alouette  potatoes</td>\n",
       "      <td>59389</td>\n",
       "      <td>45</td>\n",
       "      <td>68585</td>\n",
       "      <td>2003-04-14</td>\n",
       "      <td>['60-minutes-or-less', 'time-to-make', 'course...</td>\n",
       "      <td>[368.1, 17.0, 10.0, 2.0, 14.0, 8.0, 20.0]</td>\n",
       "      <td>11</td>\n",
       "      <td>['place potatoes in a large pot of lightly sal...</td>\n",
       "      <td>this is a super easy, great tasting, make ahea...</td>\n",
       "      <td>['spreadable cheese with garlic and herbs', 'n...</td>\n",
       "      <td>11</td>\n",
       "    </tr>\n",
       "    <tr>\n",
       "      <th>4</th>\n",
       "      <td>amish  tomato ketchup  for canning</td>\n",
       "      <td>44061</td>\n",
       "      <td>190</td>\n",
       "      <td>41706</td>\n",
       "      <td>2002-10-25</td>\n",
       "      <td>['weeknight', 'time-to-make', 'course', 'main-...</td>\n",
       "      <td>[352.9, 1.0, 337.0, 23.0, 3.0, 0.0, 28.0]</td>\n",
       "      <td>5</td>\n",
       "      <td>['mix all ingredients&amp; boil for 2 1 / 2 hours ...</td>\n",
       "      <td>my dh's amish mother raised him on this recipe...</td>\n",
       "      <td>['tomato juice', 'apple cider vinegar', 'sugar...</td>\n",
       "      <td>8</td>\n",
       "    </tr>\n",
       "  </tbody>\n",
       "</table>\n",
       "</div>"
      ],
      "text/plain": [
       "                                         name      id  minutes  \\\n",
       "0  arriba   baked winter squash mexican style  137739       55   \n",
       "1            a bit different  breakfast pizza   31490       30   \n",
       "2                   all in the kitchen  chili  112140      130   \n",
       "3                          alouette  potatoes   59389       45   \n",
       "4          amish  tomato ketchup  for canning   44061      190   \n",
       "\n",
       "   contributor_id   submitted  \\\n",
       "0           47892  2005-09-16   \n",
       "1           26278  2002-06-17   \n",
       "2          196586  2005-02-25   \n",
       "3           68585  2003-04-14   \n",
       "4           41706  2002-10-25   \n",
       "\n",
       "                                                tags  \\\n",
       "0  ['60-minutes-or-less', 'time-to-make', 'course...   \n",
       "1  ['30-minutes-or-less', 'time-to-make', 'course...   \n",
       "2  ['time-to-make', 'course', 'preparation', 'mai...   \n",
       "3  ['60-minutes-or-less', 'time-to-make', 'course...   \n",
       "4  ['weeknight', 'time-to-make', 'course', 'main-...   \n",
       "\n",
       "                                    nutrition  n_steps  \\\n",
       "0       [51.5, 0.0, 13.0, 0.0, 2.0, 0.0, 4.0]       11   \n",
       "1   [173.4, 18.0, 0.0, 17.0, 22.0, 35.0, 1.0]        9   \n",
       "2  [269.8, 22.0, 32.0, 48.0, 39.0, 27.0, 5.0]        6   \n",
       "3   [368.1, 17.0, 10.0, 2.0, 14.0, 8.0, 20.0]       11   \n",
       "4   [352.9, 1.0, 337.0, 23.0, 3.0, 0.0, 28.0]        5   \n",
       "\n",
       "                                               steps  \\\n",
       "0  ['make a choice and proceed with recipe', 'dep...   \n",
       "1  ['preheat oven to 425 degrees f', 'press dough...   \n",
       "2  ['brown ground beef in large pot', 'add choppe...   \n",
       "3  ['place potatoes in a large pot of lightly sal...   \n",
       "4  ['mix all ingredients& boil for 2 1 / 2 hours ...   \n",
       "\n",
       "                                         description  \\\n",
       "0  autumn is my favorite time of year to cook! th...   \n",
       "1  this recipe calls for the crust to be prebaked...   \n",
       "2  this modified version of 'mom's' chili was a h...   \n",
       "3  this is a super easy, great tasting, make ahea...   \n",
       "4  my dh's amish mother raised him on this recipe...   \n",
       "\n",
       "                                         ingredients  n_ingredients  \n",
       "0  ['winter squash', 'mexican seasoning', 'mixed ...              7  \n",
       "1  ['prepared pizza crust', 'sausage patty', 'egg...              6  \n",
       "2  ['ground beef', 'yellow onions', 'diced tomato...             13  \n",
       "3  ['spreadable cheese with garlic and herbs', 'n...             11  \n",
       "4  ['tomato juice', 'apple cider vinegar', 'sugar...              8  "
      ]
     },
     "execution_count": 3,
     "metadata": {},
     "output_type": "execute_result"
    }
   ],
   "source": [
    "df.head()"
   ]
  },
  {
   "cell_type": "code",
   "execution_count": 4,
   "metadata": {},
   "outputs": [
    {
     "data": {
      "text/plain": [
       "\"['in a large pot , brown the deer and pork', 'spoon off excess grease , but do not drain completely', 'add onions and cook until tender', 'add 3 cups water , tomato sauce , diced tomatoes , garlic , italian seasoning , bay leaves , soy sause , salt , black pepper , garlic powder and seasoned salt', 'cook covered for 20-25 minutes', 'add the elbow macaroni , cover and continue to simmer for about 20 minutes', 'turn off the heat , remove the bay leaves and let sit about 30 minutes']\""
      ]
     },
     "execution_count": 4,
     "metadata": {},
     "output_type": "execute_result"
    }
   ],
   "source": [
    "df[df.id == 323553].squeeze().steps"
   ]
  },
  {
   "cell_type": "code",
   "execution_count": 10,
   "metadata": {},
   "outputs": [
    {
     "data": {
      "text/plain": [
       "\"['ground deer meat', 'ground pork', 'onions', 'water', 'tomato sauce', 'diced tomatoes', 'garlic cloves', 'soy sauce', 'bay leaves', 'italian seasoning', 'salt', 'black pepper', 'garlic powder', 'seasoning salt', 'elbow macaroni']\""
      ]
     },
     "execution_count": 10,
     "metadata": {},
     "output_type": "execute_result"
    }
   ],
   "source": [
    "df[df.id == 323553].squeeze().ingredients"
   ]
  },
  {
   "cell_type": "code",
   "execution_count": 13,
   "metadata": {},
   "outputs": [],
   "source": [
    "with open('eat_pim/data/result/parsed_recipes.pkl', 'rb') as file:\n",
    "    data = pickle.load(file)"
   ]
  },
  {
   "cell_type": "code",
   "execution_count": 14,
   "metadata": {},
   "outputs": [
    {
     "data": {
      "text/plain": [
       "{'recipe_name': 'shane s goulash',\n",
       " 'tags': ['time-to-make',\n",
       "  'course',\n",
       "  'preparation',\n",
       "  'main-dish',\n",
       "  'one-dish-meal',\n",
       "  '4-hours-or-less'],\n",
       " 'parsed_steps': {0: {'subj_pred': set(),\n",
       "   'pred_obj': {('brown', 'deer', 5, 'dobj'), ('brown', 'pork', 5, 'conj')},\n",
       "   'modifying_subj_pred': set(),\n",
       "   'modifying_pred_obj': set(),\n",
       "   'verbs': {'brown'},\n",
       "   'root_verb': 'brown',\n",
       "   'noun_chunks': {'deer', 'large pot', 'pork'},\n",
       "   'action_prep_obj': {('brown', 'in', 'large pot', 5)},\n",
       "   'step_string': 'in a large pot, brown the deer and pork.'},\n",
       "  1: {'subj_pred': set(),\n",
       "   'pred_obj': {('drain', 'excess grease', 8, 'dobj'),\n",
       "    ('spoon off', 'excess grease', 0, 'dobj')},\n",
       "   'modifying_subj_pred': set(),\n",
       "   'modifying_pred_obj': set(),\n",
       "   'verbs': {'drain', 'spoon off'},\n",
       "   'root_verb': 'spoon off',\n",
       "   'noun_chunks': {'excess grease'},\n",
       "   'action_prep_obj': set(),\n",
       "   'step_string': 'spoon off excess grease, but do not drain completely.'},\n",
       "  2: {'subj_pred': set(),\n",
       "   'pred_obj': {('add', 'onion', 0, 'dobj'), ('cook', 'onion', 3, 'dobj')},\n",
       "   'modifying_subj_pred': set(),\n",
       "   'modifying_pred_obj': set(),\n",
       "   'verbs': {'add', 'cook'},\n",
       "   'root_verb': 'add',\n",
       "   'noun_chunks': {'onion'},\n",
       "   'action_prep_obj': {('cook', 'until', 'tender', 3)},\n",
       "   'step_string': 'add onions and cook until tender.'},\n",
       "  3: {'subj_pred': set(),\n",
       "   'pred_obj': {('add', '3 cups water', 0, 'dobj'),\n",
       "    ('add', 'bay leave', 0, 'conj'),\n",
       "    ('add', 'black pepper', 0, 'conj'),\n",
       "    ('add', 'diced tomato', 0, 'conj'),\n",
       "    ('add', 'garlic', 0, 'conj'),\n",
       "    ('add', 'garlic powder', 0, 'conj'),\n",
       "    ('add', 'italian seasoning', 0, 'conj'),\n",
       "    ('add', 'salt', 0, 'conj'),\n",
       "    ('add', 'seasoned salt', 0, 'conj'),\n",
       "    ('add', 'soy sause', 0, 'conj'),\n",
       "    ('add', 'tomato sauce', 0, 'conj')},\n",
       "   'modifying_subj_pred': set(),\n",
       "   'modifying_pred_obj': set(),\n",
       "   'verbs': {'add', 'dice', 'season'},\n",
       "   'root_verb': 'add',\n",
       "   'noun_chunks': {'3 cups water',\n",
       "    'bay leave',\n",
       "    'black pepper',\n",
       "    'diced tomato',\n",
       "    'garlic',\n",
       "    'garlic powder',\n",
       "    'italian seasoning',\n",
       "    'salt',\n",
       "    'seasoned salt',\n",
       "    'soy sause',\n",
       "    'tomato sauce'},\n",
       "   'action_prep_obj': set(),\n",
       "   'step_string': 'add 3 cups water, tomato sauce, diced tomatoes, garlic, italian seasoning, bay leaves, soy sause, salt, black pepper, garlic powder and seasoned salt.'},\n",
       "  4: {'subj_pred': set(),\n",
       "   'pred_obj': set(),\n",
       "   'modifying_subj_pred': set(),\n",
       "   'modifying_pred_obj': set(),\n",
       "   'verbs': {'cook', 'cover'},\n",
       "   'root_verb': 'cook',\n",
       "   'noun_chunks': {'20 25 minute'},\n",
       "   'action_prep_obj': {('cook', 'for', '20 25 minute', 1)},\n",
       "   'step_string': 'cook covered for 20-25 minutes.'},\n",
       "  5: {'subj_pred': {('elbow macaroni', 'simmer', 9, 'dobj')},\n",
       "   'pred_obj': {('add', 'elbow macaroni', 0, 'dobj'),\n",
       "    ('continue', 'elbow macaroni', 7, 'dobj'),\n",
       "    ('cover', 'elbow macaroni', 5, 'dobj')},\n",
       "   'modifying_subj_pred': set(),\n",
       "   'modifying_pred_obj': set(),\n",
       "   'verbs': {'add', 'continue', 'cover', 'simmer'},\n",
       "   'root_verb': 'add',\n",
       "   'noun_chunks': {'20 minute', 'elbow macaroni'},\n",
       "   'action_prep_obj': {('simmer', 'for', '20 minute', 9)},\n",
       "   'step_string': 'add the elbow macaroni, cover and continue to simmer for about 20 minutes.'},\n",
       "  6: {'subj_pred': set(),\n",
       "   'pred_obj': {('remove', '30 minute', 5, 'npadvmod'),\n",
       "    ('remove', 'bay leave', 5, 'dobj'),\n",
       "    ('remove', 'heat', 5, 'dobj'),\n",
       "    ('sit', '30 minute', 11, 'npadvmod'),\n",
       "    ('sit', 'bay leave', 11, 'dobj'),\n",
       "    ('sit', 'heat', 11, 'dobj'),\n",
       "    ('turn off', '30 minute', 0, 'npadvmod'),\n",
       "    ('turn off', 'bay leave', 0, 'dobj'),\n",
       "    ('turn off', 'heat', 0, 'dobj')},\n",
       "   'modifying_subj_pred': set(),\n",
       "   'modifying_pred_obj': set(),\n",
       "   'verbs': {'remove', 'sit', 'turn off'},\n",
       "   'root_verb': 'turn off',\n",
       "   'noun_chunks': {'bay leave', 'heat'},\n",
       "   'action_prep_obj': set(),\n",
       "   'step_string': 'turn off the heat, remove the bay leaves and let sit about 30 minutes.'}},\n",
       " 'ingredients': {'bay leave',\n",
       "  'black pepper',\n",
       "  'diced tomato',\n",
       "  'elbow macaroni',\n",
       "  'garlic clove',\n",
       "  'garlic powder',\n",
       "  'ground deer meat',\n",
       "  'ground pork',\n",
       "  'italian seasoning',\n",
       "  'onion',\n",
       "  'salt',\n",
       "  'seasoning salt',\n",
       "  'soy sauce',\n",
       "  'tomato sauce',\n",
       "  'water'}}"
      ]
     },
     "execution_count": 14,
     "metadata": {},
     "output_type": "execute_result"
    }
   ],
   "source": [
    "data[323553]"
   ]
  },
  {
   "cell_type": "markdown",
   "metadata": {},
   "source": [
    "## Match phase"
   ]
  },
  {
   "cell_type": "code",
   "execution_count": 15,
   "metadata": {},
   "outputs": [],
   "source": [
    "with open('eat_pim/data/result/ingredient_list.json', 'r') as json_file:\n",
    "    data1 = json.load(json_file)"
   ]
  },
  {
   "cell_type": "code",
   "execution_count": 16,
   "metadata": {},
   "outputs": [
    {
     "data": {
      "text/plain": [
       "['white wheat flour',\n",
       " 'peaches juice',\n",
       " 'lavender flower',\n",
       " 'carob chip',\n",
       " 'almond flavored liqueur',\n",
       " 'crunchy peanut butter',\n",
       " 'raw chicken',\n",
       " 'peri peri',\n",
       " 'instant espresso',\n",
       " 'vegetarian chicken flavored broth mix']"
      ]
     },
     "execution_count": 16,
     "metadata": {},
     "output_type": "execute_result"
    }
   ],
   "source": [
    "data1[:10]"
   ]
  },
  {
   "cell_type": "code",
   "execution_count": 17,
   "metadata": {},
   "outputs": [],
   "source": [
    "with open('eat_pim/data/result/word_cleanup_linking.json', 'r') as json_file:\n",
    "    data2 = json.load(json_file)"
   ]
  },
  {
   "cell_type": "code",
   "execution_count": 18,
   "metadata": {},
   "outputs": [
    {
     "data": {
      "text/plain": [
       "['obj_to_ing',\n",
       " 'obj_to_subobj',\n",
       " 'obj_leftovers',\n",
       " 'ing_to_ing',\n",
       " 'ing_to_foodon',\n",
       " 'obj_to_foodon',\n",
       " 'obj_to_equipment',\n",
       " 'verb_to_preparations']"
      ]
     },
     "execution_count": 18,
     "metadata": {},
     "output_type": "execute_result"
    }
   ],
   "source": [
    "list(data2.keys())"
   ]
  },
  {
   "cell_type": "code",
   "execution_count": 19,
   "metadata": {},
   "outputs": [
    {
     "name": "stdout",
     "output_type": "stream",
     "text": [
      "obj_to_ing\n",
      "\n",
      "packaged cheese sauce: ['cheese sauce']\n",
      "flat dough scraper: []\n",
      "guava gel: []\n",
      "cooker cover: []\n",
      "1 / 2 cup olive oil: ['olive oil']\n",
      "--------------------------------------------------\n",
      "\n",
      "\n",
      "obj_to_subobj\n",
      "\n",
      "packaged cheese sauce: []\n",
      "flat dough scraper: ['dough scraper', 'flat']\n",
      "guava gel: []\n",
      "cooker cover: ['cover', 'cooker']\n",
      "1 / 2 cup olive oil: ['cup']\n",
      "--------------------------------------------------\n",
      "\n",
      "\n",
      "obj_leftovers\n",
      "\n",
      "packaged cheese sauce: packaged\n",
      "flat dough scraper: \n",
      "guava gel: guava gel\n",
      "cooker cover: \n",
      "1 / 2 cup olive oil: \n",
      "--------------------------------------------------\n",
      "\n",
      "\n",
      "ing_to_ing\n",
      "\n",
      "white wheat flour: ['wheat flour']\n",
      "peaches juice: ['juice']\n",
      "lavender flower: []\n",
      "carob chip: ['chip']\n",
      "almond flavored liqueur: ['liqueur']\n",
      "--------------------------------------------------\n",
      "\n",
      "\n",
      "ing_to_foodon\n",
      "\n",
      "white wheat flour: ['http://purl.obolibrary.org/obo/FOODON_00001210']\n",
      "lavender flower: ['http://purl.obolibrary.org/obo/FOODON_00002571']\n",
      "carob chip: ['http://purl.obolibrary.org/obo/FOODON_00002400']\n",
      "almond flavored liqueur: ['http://purl.obolibrary.org/obo/FOODON_03301008']\n",
      "crunchy peanut butter: ['http://purl.obolibrary.org/obo/FOODON_03306867']\n",
      "--------------------------------------------------\n",
      "\n",
      "\n",
      "obj_to_foodon\n",
      "\n",
      "2 scallion brush: ['http://purl.obolibrary.org/obo/FOODON_00002695']\n",
      "olice oil: ['http://purl.obolibrary.org/obo/FOODON_03310387']\n",
      "warm glaze: ['http://purl.obolibrary.org/obo/FOODON_03315146']\n",
      "2 kebab: ['http://purl.obolibrary.org/obo/FOODON_00002528']\n",
      "chipotle mayo: ['http://purl.obolibrary.org/obo/FOODON_00002563']\n",
      "--------------------------------------------------\n",
      "\n",
      "\n",
      "obj_to_equipment\n",
      "\n",
      "microwave: ['http://www.wikidata.org/entity/Q127956']\n",
      "orange: ['http://www.wikidata.org/entity/Q519715']\n",
      "mug: ['http://www.wikidata.org/entity/Q25896976']\n",
      "paper: ['http://www.wikidata.org/entity/Q1131992']\n",
      "barbecue grill: ['http://www.wikidata.org/entity/Q853185']\n",
      "--------------------------------------------------\n",
      "\n",
      "\n",
      "verb_to_preparations\n",
      "\n",
      "high: ['http://www.wikidata.org/entity/Q1974667']\n",
      "dredge: ['http://www.wikidata.org/entity/Q5306852']\n",
      "poach: ['http://www.wikidata.org/entity/Q263588']\n",
      "parboil: ['http://www.wikidata.org/entity/Q2915299']\n",
      "deglaze: ['http://www.wikidata.org/entity/Q322444']\n",
      "--------------------------------------------------\n",
      "\n",
      "\n"
     ]
    }
   ],
   "source": [
    "for key, value in data2.items():\n",
    "    print(key)\n",
    "    print()\n",
    "    for key2, value2 in list(value.items())[:5]:\n",
    "        print(f'{key2}: {value2}')\n",
    "    print('-'*50)\n",
    "    print('\\n')"
   ]
  },
  {
   "cell_type": "markdown",
   "metadata": {},
   "source": [
    "## Converting stage"
   ]
  },
  {
   "cell_type": "code",
   "execution_count": 20,
   "metadata": {},
   "outputs": [],
   "source": [
    "with open('eat_pim/data/result/entity_relations.json', 'r') as json_file:\n",
    "    data1 = json.load(json_file)"
   ]
  },
  {
   "cell_type": "code",
   "execution_count": 21,
   "metadata": {},
   "outputs": [
    {
     "data": {
      "text/plain": [
       "['subclass_edges', 'subclass_edge_labels']"
      ]
     },
     "execution_count": 21,
     "metadata": {},
     "output_type": "execute_result"
    }
   ],
   "source": [
    "list(data1.keys())[:5]"
   ]
  },
  {
   "cell_type": "code",
   "execution_count": 22,
   "metadata": {},
   "outputs": [
    {
     "data": {
      "text/plain": [
       "[['ingredient', 'http://purl.obolibrary.org/obo/FOODON_00001002'],\n",
       " ['white wheat flour', 'wheat flour'],\n",
       " ['white wheat flour', 'http://purl.obolibrary.org/obo/FOODON_00001210'],\n",
       " ['peaches juice', 'juice'],\n",
       " ['lavender flower', 'http://purl.obolibrary.org/obo/FOODON_00002571']]"
      ]
     },
     "execution_count": 22,
     "metadata": {},
     "output_type": "execute_result"
    }
   ],
   "source": [
    "data1['subclass_edges'][:5]"
   ]
  },
  {
   "cell_type": "code",
   "execution_count": 23,
   "metadata": {},
   "outputs": [
    {
     "data": {
      "text/plain": [
       "['sub', 'sub', 'sub', 'sub', 'sub']"
      ]
     },
     "execution_count": 23,
     "metadata": {},
     "output_type": "execute_result"
    }
   ],
   "source": [
    "data1['subclass_edge_labels'][:5]"
   ]
  },
  {
   "cell_type": "code",
   "execution_count": 8,
   "metadata": {},
   "outputs": [],
   "source": [
    "with open('eat_pim/data/result/recipe_tree_data.json', 'r') as json_file:\n",
    "    data2 = json.load(json_file)"
   ]
  },
  {
   "cell_type": "code",
   "execution_count": 11,
   "metadata": {},
   "outputs": [
    {
     "data": {
      "text/plain": [
       "{'edges': [['pred_brown_323553_0', 'pred_drain_323553_1'],\n",
       "  ['pred_drain_323553_1', 'pred_cook_323553_2'],\n",
       "  ['pred_cook_323553_2', 'pred_add_323553_3'],\n",
       "  ['pred_add_323553_2', 'pred_cook_323553_2'],\n",
       "  ['pred_add_323553_3', 'pred_cook_323553_4'],\n",
       "  ['pred_cook_323553_4', 'pred_turn off_323553_6'],\n",
       "  ['pred_simmer_323553_5', 'pred_sit_323553_6'],\n",
       "  ['pred_add_323553_5', 'pred_cover_323553_5'],\n",
       "  ['pred_cover_323553_5', 'pred_continue_323553_5'],\n",
       "  ['pred_continue_323553_5', 'pred_simmer_323553_5'],\n",
       "  ['pred_turn off_323553_6', 'pred_remove_323553_6'],\n",
       "  ['pred_remove_323553_6', 'pred_sit_323553_6'],\n",
       "  ['pred_sit_323553_6', 'RECIPE_OUTPUT_323553'],\n",
       "  ['soy sauce', 'pred_add_323553_3'],\n",
       "  ['ground deer meat', 'pred_brown_323553_0'],\n",
       "  ['ground pork', 'pred_brown_323553_0'],\n",
       "  ['onion', 'pred_add_323553_2'],\n",
       "  ['garlic powder', 'pred_add_323553_3'],\n",
       "  ['seasoning salt', 'pred_add_323553_3'],\n",
       "  ['salt', 'pred_add_323553_3'],\n",
       "  ['bay leave', 'pred_add_323553_3'],\n",
       "  ['water', 'pred_add_323553_3'],\n",
       "  ['garlic clove', 'pred_add_323553_3'],\n",
       "  ['tomato sauce', 'pred_add_323553_3'],\n",
       "  ['italian seasoning', 'pred_add_323553_3'],\n",
       "  ['black pepper', 'pred_add_323553_3'],\n",
       "  ['diced tomato', 'pred_add_323553_3'],\n",
       "  ['elbow macaroni', 'pred_add_323553_5']],\n",
       " 'edge_labels': ['pred drain',\n",
       "  'pred cook',\n",
       "  'pred add',\n",
       "  'pred cook',\n",
       "  'pred cook',\n",
       "  'pred turn off',\n",
       "  'pred sit',\n",
       "  'pred cover',\n",
       "  'pred continue',\n",
       "  'pred simmer',\n",
       "  'pred remove',\n",
       "  'pred sit',\n",
       "  'RECIPE OUTPUT',\n",
       "  'pred add',\n",
       "  'pred brown',\n",
       "  'pred brown',\n",
       "  'pred add',\n",
       "  'pred add',\n",
       "  'pred add',\n",
       "  'pred add',\n",
       "  'pred add',\n",
       "  'pred add',\n",
       "  'pred add',\n",
       "  'pred add',\n",
       "  'pred add',\n",
       "  'pred add',\n",
       "  'pred add',\n",
       "  'pred add'],\n",
       " 'output_node': 'RECIPE_OUTPUT_323553'}"
      ]
     },
     "execution_count": 11,
     "metadata": {},
     "output_type": "execute_result"
    }
   ],
   "source": [
    "data2['323553']"
   ]
  },
  {
   "cell_type": "markdown",
   "metadata": {},
   "source": [
    "## Additional transformations stage"
   ]
  },
  {
   "cell_type": "code",
   "execution_count": 26,
   "metadata": {},
   "outputs": [],
   "source": [
    "# seems not interesting "
   ]
  },
  {
   "cell_type": "markdown",
   "metadata": {},
   "source": [
    "## Training stage"
   ]
  },
  {
   "cell_type": "code",
   "execution_count": 27,
   "metadata": {},
   "outputs": [],
   "source": [
    "data1 = np.load('eat_pim/data/result/models/result_model/entity_embedding.npy')"
   ]
  },
  {
   "cell_type": "code",
   "execution_count": 28,
   "metadata": {},
   "outputs": [
    {
     "data": {
      "text/plain": [
       "(35282, 200)"
      ]
     },
     "execution_count": 28,
     "metadata": {},
     "output_type": "execute_result"
    }
   ],
   "source": [
    "data1.shape"
   ]
  },
  {
   "cell_type": "code",
   "execution_count": 29,
   "metadata": {},
   "outputs": [
    {
     "data": {
      "text/plain": [
       "array([[-0.10066131,  0.14847583, -0.15372162, ...,  0.12440923,\n",
       "         0.21558975,  0.23338735],\n",
       "       [ 0.09728201, -0.20305832,  0.18482757, ..., -0.16855279,\n",
       "        -0.1914247 , -0.13457297],\n",
       "       [ 0.07848426, -0.12518491, -0.05750352, ..., -0.13136351,\n",
       "        -0.14900945, -0.18839473],\n",
       "       ...,\n",
       "       [-0.00497519,  0.11228769, -0.09535457, ...,  0.13634567,\n",
       "        -0.08575971,  0.16163759],\n",
       "       [ 0.40133262,  0.38285762, -0.36362553, ..., -0.07466532,\n",
       "        -0.3443854 , -0.17436528],\n",
       "       [ 0.27345806,  0.31066573, -0.0364875 , ..., -0.04268415,\n",
       "        -0.36825085, -0.22395949]], dtype=float32)"
      ]
     },
     "execution_count": 29,
     "metadata": {},
     "output_type": "execute_result"
    }
   ],
   "source": [
    "data1"
   ]
  },
  {
   "cell_type": "code",
   "execution_count": 30,
   "metadata": {},
   "outputs": [],
   "source": [
    "data2= np.load('eat_pim/data/result/models/result_model/relation_embedding.npy')"
   ]
  },
  {
   "cell_type": "code",
   "execution_count": 31,
   "metadata": {},
   "outputs": [
    {
     "data": {
      "text/plain": [
       "(2155, 200)"
      ]
     },
     "execution_count": 31,
     "metadata": {},
     "output_type": "execute_result"
    }
   ],
   "source": [
    "data2.shape"
   ]
  },
  {
   "cell_type": "code",
   "execution_count": 32,
   "metadata": {},
   "outputs": [
    {
     "data": {
      "text/plain": [
       "array([[-0.0168477 ,  0.02033207,  0.0268926 , ..., -0.05902204,\n",
       "        -0.06585746,  0.0525561 ],\n",
       "       [ 0.1453441 ,  0.02742632,  0.01849286, ...,  0.03945448,\n",
       "         0.00857689,  0.05027134],\n",
       "       [-0.04293855, -0.03937368, -0.00558591, ..., -0.01837298,\n",
       "         0.06250891, -0.01247513],\n",
       "       ...,\n",
       "       [ 0.04315095, -0.03737517,  0.10287715, ...,  0.02799555,\n",
       "         0.09120946,  0.02514532],\n",
       "       [ 0.09208161,  0.05382334,  0.01891737, ..., -0.05668677,\n",
       "         0.01494567, -0.01267082],\n",
       "       [-0.09248153,  0.01737149,  0.02265623, ...,  0.035187  ,\n",
       "         0.01850378,  0.01055231]], dtype=float32)"
      ]
     },
     "execution_count": 32,
     "metadata": {},
     "output_type": "execute_result"
    }
   ],
   "source": [
    "data2"
   ]
  },
  {
   "cell_type": "code",
   "execution_count": 33,
   "metadata": {},
   "outputs": [],
   "source": [
    "# entities and actions themselves are in 'eat_pim/data/result/eatpim_triple_data/' in 'entities.dict' and 'relations.dict'"
   ]
  },
  {
   "cell_type": "markdown",
   "metadata": {},
   "source": [
    "## Co-occurence matrix"
   ]
  },
  {
   "cell_type": "code",
   "execution_count": 2,
   "metadata": {},
   "outputs": [],
   "source": [
    "with open('eat_pim/data/result/ing_occ_data.pkl', 'rb') as file:\n",
    "    data = pickle.load(file)"
   ]
  },
  {
   "cell_type": "code",
   "execution_count": 3,
   "metadata": {},
   "outputs": [
    {
     "data": {
      "text/plain": [
       "5764"
      ]
     },
     "execution_count": 3,
     "metadata": {},
     "output_type": "execute_result"
    }
   ],
   "source": [
    "len(data['ing_to_index'])"
   ]
  },
  {
   "cell_type": "code",
   "execution_count": 4,
   "metadata": {},
   "outputs": [],
   "source": [
    "matrix = data['ing_cooc_matrix'].toarray()"
   ]
  },
  {
   "cell_type": "code",
   "execution_count": 5,
   "metadata": {},
   "outputs": [
    {
     "data": {
      "text/plain": [
       "(5764, 5764)"
      ]
     },
     "execution_count": 5,
     "metadata": {},
     "output_type": "execute_result"
    }
   ],
   "source": [
    "matrix.shape"
   ]
  },
  {
   "cell_type": "code",
   "execution_count": 38,
   "metadata": {},
   "outputs": [
    {
     "data": {
      "text/plain": [
       "array([[0., 0., 0., ..., 0., 0., 0.],\n",
       "       [0., 0., 0., ..., 0., 0., 0.],\n",
       "       [0., 0., 0., ..., 0., 0., 0.],\n",
       "       ...,\n",
       "       [0., 0., 0., ..., 0., 0., 0.],\n",
       "       [0., 0., 0., ..., 0., 0., 0.],\n",
       "       [0., 0., 0., ..., 0., 0., 0.]], dtype=float32)"
      ]
     },
     "execution_count": 38,
     "metadata": {},
     "output_type": "execute_result"
    }
   ],
   "source": [
    "matrix"
   ]
  },
  {
   "cell_type": "code",
   "execution_count": 39,
   "metadata": {},
   "outputs": [
    {
     "data": {
      "text/plain": [
       "1489.0"
      ]
     },
     "execution_count": 39,
     "metadata": {},
     "output_type": "execute_result"
    }
   ],
   "source": [
    "np.max(matrix)"
   ]
  },
  {
   "cell_type": "code",
   "execution_count": 40,
   "metadata": {},
   "outputs": [],
   "source": [
    "with open('eat_pim/data/result/word_cleanup_linking.json', 'r') as json_file:\n",
    "    data2 = json.load(json_file)"
   ]
  },
  {
   "cell_type": "code",
   "execution_count": 41,
   "metadata": {},
   "outputs": [
    {
     "data": {
      "text/plain": [
       "5943"
      ]
     },
     "execution_count": 41,
     "metadata": {},
     "output_type": "execute_result"
    }
   ],
   "source": [
    "len(data2['ing_to_foodon'])"
   ]
  },
  {
   "cell_type": "code",
   "execution_count": 42,
   "metadata": {},
   "outputs": [
    {
     "data": {
      "text/plain": [
       "5219"
      ]
     },
     "execution_count": 42,
     "metadata": {},
     "output_type": "execute_result"
    }
   ],
   "source": [
    "l = []\n",
    "for ing in data['ing_to_index']:\n",
    "    l.append(ing in data2['ing_to_foodon'])\n",
    "    \n",
    "sum(l)"
   ]
  }
 ],
 "metadata": {
  "kernelspec": {
   "display_name": "base",
   "language": "python",
   "name": "python3"
  },
  "language_info": {
   "codemirror_mode": {
    "name": "ipython",
    "version": 3
   },
   "file_extension": ".py",
   "mimetype": "text/x-python",
   "name": "python",
   "nbconvert_exporter": "python",
   "pygments_lexer": "ipython3",
   "version": "3.10.9"
  }
 },
 "nbformat": 4,
 "nbformat_minor": 2
}
